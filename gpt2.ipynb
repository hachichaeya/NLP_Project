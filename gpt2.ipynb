{
  "nbformat": 4,
  "nbformat_minor": 0,
  "metadata": {
    "colab": {
      "provenance": []
    },
    "kernelspec": {
      "name": "python3",
      "display_name": "Python 3"
    },
    "language_info": {
      "name": "python"
    }
  },
  "cells": [
    {
      "cell_type": "code",
      "execution_count": null,
      "metadata": {
        "colab": {
          "base_uri": "https://localhost:8080/"
        },
        "id": "DZpPIrVOPA5h",
        "outputId": "5aea52e6-0f85-429a-f679-c802e28a4453"
      },
      "outputs": [
        {
          "output_type": "stream",
          "name": "stdout",
          "text": [
            "Collecting transformers\n",
            "  Downloading transformers-4.30.2-py3-none-any.whl (7.2 MB)\n",
            "\u001b[2K     \u001b[90m━━━━━━━━━━━━━━━━━━━━━━━━━━━━━━━━━━━━━━━━\u001b[0m \u001b[32m7.2/7.2 MB\u001b[0m \u001b[31m52.5 MB/s\u001b[0m eta \u001b[36m0:00:00\u001b[0m\n",
            "\u001b[?25hRequirement already satisfied: filelock in /usr/local/lib/python3.10/dist-packages (from transformers) (3.12.2)\n",
            "Collecting huggingface-hub<1.0,>=0.14.1 (from transformers)\n",
            "  Downloading huggingface_hub-0.16.2-py3-none-any.whl (268 kB)\n",
            "\u001b[2K     \u001b[90m━━━━━━━━━━━━━━━━━━━━━━━━━━━━━━━━━━━━━━\u001b[0m \u001b[32m268.5/268.5 kB\u001b[0m \u001b[31m31.3 MB/s\u001b[0m eta \u001b[36m0:00:00\u001b[0m\n",
            "\u001b[?25hRequirement already satisfied: numpy>=1.17 in /usr/local/lib/python3.10/dist-packages (from transformers) (1.22.4)\n",
            "Requirement already satisfied: packaging>=20.0 in /usr/local/lib/python3.10/dist-packages (from transformers) (23.1)\n",
            "Requirement already satisfied: pyyaml>=5.1 in /usr/local/lib/python3.10/dist-packages (from transformers) (6.0)\n",
            "Requirement already satisfied: regex!=2019.12.17 in /usr/local/lib/python3.10/dist-packages (from transformers) (2022.10.31)\n",
            "Requirement already satisfied: requests in /usr/local/lib/python3.10/dist-packages (from transformers) (2.27.1)\n",
            "Collecting tokenizers!=0.11.3,<0.14,>=0.11.1 (from transformers)\n",
            "  Downloading tokenizers-0.13.3-cp310-cp310-manylinux_2_17_x86_64.manylinux2014_x86_64.whl (7.8 MB)\n",
            "\u001b[2K     \u001b[90m━━━━━━━━━━━━━━━━━━━━━━━━━━━━━━━━━━━━━━━━\u001b[0m \u001b[32m7.8/7.8 MB\u001b[0m \u001b[31m71.1 MB/s\u001b[0m eta \u001b[36m0:00:00\u001b[0m\n",
            "\u001b[?25hCollecting safetensors>=0.3.1 (from transformers)\n",
            "  Downloading safetensors-0.3.1-cp310-cp310-manylinux_2_17_x86_64.manylinux2014_x86_64.whl (1.3 MB)\n",
            "\u001b[2K     \u001b[90m━━━━━━━━━━━━━━━━━━━━━━━━━━━━━━━━━━━━━━━━\u001b[0m \u001b[32m1.3/1.3 MB\u001b[0m \u001b[31m81.4 MB/s\u001b[0m eta \u001b[36m0:00:00\u001b[0m\n",
            "\u001b[?25hRequirement already satisfied: tqdm>=4.27 in /usr/local/lib/python3.10/dist-packages (from transformers) (4.65.0)\n",
            "Requirement already satisfied: fsspec in /usr/local/lib/python3.10/dist-packages (from huggingface-hub<1.0,>=0.14.1->transformers) (2023.6.0)\n",
            "Requirement already satisfied: typing-extensions>=3.7.4.3 in /usr/local/lib/python3.10/dist-packages (from huggingface-hub<1.0,>=0.14.1->transformers) (4.6.3)\n",
            "Requirement already satisfied: urllib3<1.27,>=1.21.1 in /usr/local/lib/python3.10/dist-packages (from requests->transformers) (1.26.16)\n",
            "Requirement already satisfied: certifi>=2017.4.17 in /usr/local/lib/python3.10/dist-packages (from requests->transformers) (2023.5.7)\n",
            "Requirement already satisfied: charset-normalizer~=2.0.0 in /usr/local/lib/python3.10/dist-packages (from requests->transformers) (2.0.12)\n",
            "Requirement already satisfied: idna<4,>=2.5 in /usr/local/lib/python3.10/dist-packages (from requests->transformers) (3.4)\n",
            "Installing collected packages: tokenizers, safetensors, huggingface-hub, transformers\n",
            "Successfully installed huggingface-hub-0.16.2 safetensors-0.3.1 tokenizers-0.13.3 transformers-4.30.2\n"
          ]
        }
      ],
      "source": [
        "!pip install transformers"
      ]
    },
    {
      "cell_type": "code",
      "source": [
        "text=\"\"\"Agriculture plays a vital role in providing sustenance and resources for communities worldwide. One crop that holds significant importance in agriculture is corn, also known as maize. Corn is a staple food in many cultures and serves as a crucial ingredient in various industries.\n",
        "\n",
        "Corn cultivation is a widespread practice in agricultural landscapes, with farmers dedicating vast tracts of land to its growth. The crop requires specific conditions to thrive, including fertile soil, adequate sunlight, and regular irrigation. Farmers employ various agricultural techniques, such as crop rotation and proper fertilization, to maximize corn yields and ensure the health of the plants.\n",
        "\n",
        "The versatility of corn extends beyond its use as a food source. It finds application in diverse sectors, including the production of biofuels, animal feed, and manufacturing processes. Ethanol, a renewable fuel source, is commonly derived from corn, contributing to efforts towards sustainable energy production. Moreover, corn serves as a primary ingredient in the production of livestock feed, supporting the animal farming industry.\n",
        "\n",
        "Sobyan, also known as okra or lady's finger, is another crop that holds significance in agriculture. It is a warm-season vegetable widely cultivated in many regions. Sobyan plants have distinctive elongated green pods that are rich in essential nutrients. Farmers cultivate sobyan in well-drained soil, providing it with sufficient sunlight and water.\n",
        "\n",
        "Sobyan is a versatile crop in culinary applications and is renowned for its unique texture and taste. It is often used in various dishes, such as soups, stews, curries, and stir-fries. The vegetable offers a range of health benefits, being a good source of dietary fiber, vitamins, and minerals.\n",
        "\n",
        "In the realm of sustainable agriculture, farmers are increasingly adopting eco-friendly practices to cultivate corn, sobyan, and other crops. These practices include precision farming techniques, integrated pest management, and conservation tillage methods. By implementing such strategies, farmers aim to minimize the environmental impact of agriculture while ensuring the long-term viability of their crops.\n",
        "\n",
        "In conclusion, agriculture is closely intertwined with the cultivation of crops like corn and sobyan. These crops not only provide sustenance but also contribute to various industries and culinary traditions. With the adoption of sustainable agricultural practices, farmers strive to meet the growing demand for these crops while preserving the environment for future generations.\"\"\""
      ],
      "metadata": {
        "id": "o-fzeoo0POuX"
      },
      "execution_count": null,
      "outputs": []
    },
    {
      "cell_type": "code",
      "source": [
        "import torch\n",
        "from transformers import GPT2Tokenizer, GPT2Model\n",
        "from keybert import KeyBERT\n",
        "import pandas as pd\n",
        "\n",
        "def extract_keywords(input_text, model_name='gpt2', top_n=10):\n",
        "    # Load the pre-trained GPT-2 model and tokenizer\n",
        "    tokenizer = GPT2Tokenizer.from_pretrained(model_name)\n",
        "    model = GPT2Model.from_pretrained(model_name)\n",
        "\n",
        "    # Tokenize the input text using the GPT-2 tokenizer\n",
        "    tokenized_input = tokenizer.encode(input_text, add_special_tokens=True)\n",
        "\n",
        "    # Pass the tokenized input through the GPT-2 model to obtain embeddings\n",
        "    with torch.no_grad():\n",
        "        model_output = model(torch.tensor([tokenized_input]))[0]\n",
        "\n",
        "    # Extract the top concepts from the embeddings using KeyBERT\n",
        "    keybert = KeyBERT(model=model)\n",
        "    keywords = keybert.extract_keywords(input_text, keyphrase_ngram_range=(1, 2), top_n=top_n)\n",
        "\n",
        "    return keywords\n",
        "\n",
        "keywords = extract_keywords(text, model_name='gpt2', top_n=10)\n",
        "print(keywords)\n"
      ],
      "metadata": {
        "colab": {
          "base_uri": "https://localhost:8080/"
        },
        "id": "8VpRtrHDPETi",
        "outputId": "550af06f-2fd0-491e-f46e-3aa6da96a38e"
      },
      "execution_count": null,
      "outputs": [
        {
          "output_type": "stream",
          "name": "stdout",
          "text": [
            "[('agriculture corn', 0.7334), ('corn contributing', 0.7184), ('corn cultivation', 0.715), ('cultivate corn', 0.6972), ('importance agriculture', 0.6954), ('corn known', 0.6746), ('significance agriculture', 0.6698), ('maize corn', 0.667), ('industries corn', 0.6573), ('crops provide', 0.65)]\n"
          ]
        }
      ]
    }
  ]
}